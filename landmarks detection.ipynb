{
 "cells": [
  {
   "cell_type": "code",
   "execution_count": 4,
   "metadata": {},
   "outputs": [],
   "source": [
    "import cv2\n",
    "import dlib\n",
    "\n",
    "#loading face detetctor\n",
    "detector=dlib.get_frontal_face_detector()\n",
    "\n",
    "#loading landmark detector\n",
    "predictor = dlib.shape_predictor('./shape_predictor_68_face_landmarks.dat')\n",
    "\n",
    "img=cv2.imread('./image.jpg')\n",
    "\n",
    "#view image\n",
    "cv2.imshow('aa',img)\n",
    "cv2.waitKey(0)\n",
    "cv2.destroyAllWindows()\n",
    "\n",
    "#before applying classfier we convert into grayscale\n",
    "gray=cv2.cvtColor(img,cv2.COLOR_BGR2GRAY)\n",
    "\n",
    "#test classifier\n",
    "faces = detector(gray,1)\n",
    "\n",
    "for face in faces:\n",
    "    x1 = face.left()\n",
    "    y1 = face.top()\n",
    "    x2 = face.right()\n",
    "    y2 = face.bottom() \n",
    "    landmarks=predictor(gray,face)\n",
    "    \n",
    "    for n in range(0,68):\n",
    "            x=landmarks.part(n).x\n",
    "            y=landmarks.part(n).y\n",
    "            cv2.circle(img,(x,y),2,(255,100,0),-1)\n",
    "cv2.imshow('aa',img)\n",
    "cv2.waitKey(0)\n",
    "cv2.destroyAllWindows()\n"
   ]
  }
 ],
 "metadata": {
  "kernelspec": {
   "display_name": "Python 3",
   "language": "python",
   "name": "python3"
  },
  "language_info": {
   "codemirror_mode": {
    "name": "ipython",
    "version": 3
   },
   "file_extension": ".py",
   "mimetype": "text/x-python",
   "name": "python",
   "nbconvert_exporter": "python",
   "pygments_lexer": "ipython3",
   "version": "3.7.1"
  }
 },
 "nbformat": 4,
 "nbformat_minor": 2
}
